{
 "cells": [
  {
   "cell_type": "code",
   "execution_count": 2,
   "id": "4e1b6077",
   "metadata": {},
   "outputs": [],
   "source": [
    "import matplotlib.pyplot as plt\n",
    "import pandas as pd\n",
    "import numpy as np\n",
    "import requests\n",
    "import time\n",
    "from scipy.stats import linregress\n",
    "import scipy.stats as st\n",
    "from pprint import pprint\n",
    "import json\n",
    "\n",
    "#IDs CUUR0000SA0 = CPI\n",
    "# APU0000702212 = Bread\n",
    "# APU0000708111 = Eggs\n",
    "# APU0000709112 = Milk"
   ]
  },
  {
   "cell_type": "code",
   "execution_count": 3,
   "id": "f1e8a109",
   "metadata": {},
   "outputs": [
    {
     "name": "stdout",
     "output_type": "stream",
     "text": [
      "Hunting for Data\n",
      "-----------------------------\n",
      "finding ID #CUUR0000SA0 for month #6\n",
      "finding ID #CUUR0000SA0 for month #5\n",
      "finding ID #CUUR0000SA0 for month #4\n",
      "finding ID #CUUR0000SA0 for month #3\n",
      "finding ID #CUUR0000SA0 for month #2\n",
      "finding ID #CUUR0000SA0 for month #1\n",
      "finding ID #APU0000702212 for month #6\n",
      "finding ID #APU0000702212 for month #5\n",
      "finding ID #APU0000702212 for month #4\n",
      "finding ID #APU0000702212 for month #3\n",
      "finding ID #APU0000702212 for month #2\n",
      "finding ID #APU0000702212 for month #1\n",
      "finding ID #APU0000708111 for month #6\n",
      "finding ID #APU0000708111 for month #5\n",
      "finding ID #APU0000708111 for month #4\n",
      "finding ID #APU0000708111 for month #3\n",
      "finding ID #APU0000708111 for month #2\n",
      "finding ID #APU0000708111 for month #1\n",
      "finding ID #APU0000709112 for month #6\n",
      "finding ID #APU0000709112 for month #5\n",
      "finding ID #APU0000709112 for month #4\n",
      "finding ID #APU0000709112 for month #3\n",
      "finding ID #APU0000709112 for month #2\n",
      "finding ID #APU0000709112 for month #1\n",
      "-----------------------------\n",
      "Data Retrieval Complete\n",
      "-----------------------------\n"
     ]
    }
   ],
   "source": [
    "ID = [\"CUUR0000SA0\", \"APU0000702212\", \"APU0000708111\", \"APU0000709112\"]\n",
    "num = [5,4,3,2,1,0]\n",
    "\n",
    "IDs = []\n",
    "Month = []\n",
    "Stats = []\n",
    "\n",
    "\n",
    "\n",
    "print('Hunting for Data')\n",
    "print('-----------------------------')\n",
    "\n",
    "for x in ID:\n",
    "    headers = {'Content-type': 'application/json'}\n",
    "    data = json.dumps({\"seriesid\": [x],\"startyear\":\"2022\", \"endyear\":\"2022\"})\n",
    "    p = requests.post('https://api.bls.gov/publicAPI/v2/timeseries/data/', data=data, headers=headers)\n",
    "    json_data = json.loads(p.text)\n",
    "    \n",
    "    for y in num:\n",
    "        \n",
    "        try:\n",
    "            \n",
    "            IDs.append(json_data['Results']['series'][0]['seriesID'])\n",
    "            Month.append(json_data['Results']['series'][0][\"data\"][y]['periodName'])\n",
    "            Stats.append(json_data['Results']['series'][0][\"data\"][y]['value'])\n",
    "        \n",
    "\n",
    "            print(f\"finding ID #{x} for month #{y + 1}\")\n",
    "            time.sleep(1)\n",
    "    \n",
    "        except (KeyError, IndexError):\n",
    "            print(f\"Could not find ID #{x} for month #{y + 1}\")\n",
    "    \n",
    "\n",
    "#print the end        \n",
    "print(\"-----------------------------\")\n",
    "print(\"Data Retrieval Complete\")   \n",
    "print(\"-----------------------------\")"
   ]
  },
  {
   "cell_type": "code",
   "execution_count": 4,
   "id": "22443955",
   "metadata": {},
   "outputs": [
    {
     "data": {
      "text/html": [
       "<div>\n",
       "<style scoped>\n",
       "    .dataframe tbody tr th:only-of-type {\n",
       "        vertical-align: middle;\n",
       "    }\n",
       "\n",
       "    .dataframe tbody tr th {\n",
       "        vertical-align: top;\n",
       "    }\n",
       "\n",
       "    .dataframe thead th {\n",
       "        text-align: right;\n",
       "    }\n",
       "</style>\n",
       "<table border=\"1\" class=\"dataframe\">\n",
       "  <thead>\n",
       "    <tr style=\"text-align: right;\">\n",
       "      <th></th>\n",
       "      <th>Month</th>\n",
       "      <th>Beef 2022</th>\n",
       "    </tr>\n",
       "  </thead>\n",
       "  <tbody>\n",
       "    <tr>\n",
       "      <th>0</th>\n",
       "      <td>January</td>\n",
       "      <td>5.170</td>\n",
       "    </tr>\n",
       "    <tr>\n",
       "      <th>1</th>\n",
       "      <td>February</td>\n",
       "      <td>5.199</td>\n",
       "    </tr>\n",
       "    <tr>\n",
       "      <th>2</th>\n",
       "      <td>March</td>\n",
       "      <td>5.342</td>\n",
       "    </tr>\n",
       "    <tr>\n",
       "      <th>3</th>\n",
       "      <td>April</td>\n",
       "      <td>5.414</td>\n",
       "    </tr>\n",
       "    <tr>\n",
       "      <th>4</th>\n",
       "      <td>May</td>\n",
       "      <td>5.332</td>\n",
       "    </tr>\n",
       "    <tr>\n",
       "      <th>5</th>\n",
       "      <td>June</td>\n",
       "      <td>5.402</td>\n",
       "    </tr>\n",
       "  </tbody>\n",
       "</table>\n",
       "</div>"
      ],
      "text/plain": [
       "      Month  Beef 2022\n",
       "0   January      5.170\n",
       "1  February      5.199\n",
       "2     March      5.342\n",
       "3     April      5.414\n",
       "4       May      5.332\n",
       "5      June      5.402"
      ]
     },
     "execution_count": 4,
     "metadata": {},
     "output_type": "execute_result"
    }
   ],
   "source": [
    "#Import Monthly Beef Data\n",
    "beefMonthly = pd.read_csv(\"InputData/Monthly 2022 Beef Prices.csv\")\n",
    "\n",
    "#Set Monthly Beef Data Index to Period\n",
    "#Delete Year Column\n",
    "bmonthly = beefMonthly.rename(columns = {\"Period\":\"Month\",\"Value\":\"Beef 2022\"})\n",
    "del bmonthly['Year']\n",
    "\n",
    "#Plot the Monthly Beef Data\n",
    "bmonthly"
   ]
  },
  {
   "cell_type": "code",
   "execution_count": 5,
   "id": "f5c16b01",
   "metadata": {},
   "outputs": [
    {
     "data": {
      "text/html": [
       "<div>\n",
       "<style scoped>\n",
       "    .dataframe tbody tr th:only-of-type {\n",
       "        vertical-align: middle;\n",
       "    }\n",
       "\n",
       "    .dataframe tbody tr th {\n",
       "        vertical-align: top;\n",
       "    }\n",
       "\n",
       "    .dataframe thead th {\n",
       "        text-align: right;\n",
       "    }\n",
       "</style>\n",
       "<table border=\"1\" class=\"dataframe\">\n",
       "  <thead>\n",
       "    <tr style=\"text-align: right;\">\n",
       "      <th></th>\n",
       "      <th>Month</th>\n",
       "      <th>Beef 2022</th>\n",
       "      <th>Bread 2022</th>\n",
       "      <th>Milk 2022</th>\n",
       "      <th>Eggs 2022</th>\n",
       "      <th>CPI 2022</th>\n",
       "    </tr>\n",
       "  </thead>\n",
       "  <tbody>\n",
       "    <tr>\n",
       "      <th>0</th>\n",
       "      <td>January</td>\n",
       "      <td>5.170</td>\n",
       "      <td>2.119</td>\n",
       "      <td>3.787</td>\n",
       "      <td>1.929</td>\n",
       "      <td>281.148</td>\n",
       "    </tr>\n",
       "    <tr>\n",
       "      <th>1</th>\n",
       "      <td>February</td>\n",
       "      <td>5.199</td>\n",
       "      <td>2.029</td>\n",
       "      <td>3.875</td>\n",
       "      <td>2.005</td>\n",
       "      <td>283.716</td>\n",
       "    </tr>\n",
       "    <tr>\n",
       "      <th>2</th>\n",
       "      <td>March</td>\n",
       "      <td>5.342</td>\n",
       "      <td>2.121</td>\n",
       "      <td>3.917</td>\n",
       "      <td>2.046</td>\n",
       "      <td>287.504</td>\n",
       "    </tr>\n",
       "    <tr>\n",
       "      <th>3</th>\n",
       "      <td>April</td>\n",
       "      <td>5.414</td>\n",
       "      <td>2.145</td>\n",
       "      <td>4.012</td>\n",
       "      <td>2.520</td>\n",
       "      <td>289.109</td>\n",
       "    </tr>\n",
       "    <tr>\n",
       "      <th>4</th>\n",
       "      <td>May</td>\n",
       "      <td>5.332</td>\n",
       "      <td>2.220</td>\n",
       "      <td>4.204</td>\n",
       "      <td>2.863</td>\n",
       "      <td>292.296</td>\n",
       "    </tr>\n",
       "    <tr>\n",
       "      <th>5</th>\n",
       "      <td>June</td>\n",
       "      <td>5.402</td>\n",
       "      <td>2.230</td>\n",
       "      <td>4.153</td>\n",
       "      <td>2.707</td>\n",
       "      <td>296.311</td>\n",
       "    </tr>\n",
       "  </tbody>\n",
       "</table>\n",
       "</div>"
      ],
      "text/plain": [
       "      Month  Beef 2022 Bread 2022 Milk 2022 Eggs 2022 CPI 2022\n",
       "0   January      5.170      2.119     3.787     1.929  281.148\n",
       "1  February      5.199      2.029     3.875     2.005  283.716\n",
       "2     March      5.342      2.121     3.917     2.046  287.504\n",
       "3     April      5.414      2.145     4.012     2.520  289.109\n",
       "4       May      5.332      2.220     4.204     2.863  292.296\n",
       "5      June      5.402      2.230     4.153     2.707  296.311"
      ]
     },
     "execution_count": 5,
     "metadata": {},
     "output_type": "execute_result"
    }
   ],
   "source": [
    "#pull Dataframe\n",
    "Stats2022 = pd.DataFrame({\n",
    "    'ID #': IDs,\n",
    "    'Month': Month,\n",
    "    'Prices': Stats\n",
    "})\n",
    "\n",
    "#seperate into catogories\n",
    "Bread = Stats2022.loc[(Stats2022['ID #'] == 'APU0000702212')]\n",
    "Milk = Stats2022.loc[(Stats2022['ID #'] == 'APU0000709112')]\n",
    "Egg = Stats2022.loc[(Stats2022['ID #'] == 'APU0000708111')]\n",
    "Cpi = Stats2022.loc[(Stats2022['ID #'] == 'CUUR0000SA0')]\n",
    "\n",
    "#First merge\n",
    "X = Bread.merge(Milk, on=\"Month\")\n",
    "\n",
    "#Clean merge\n",
    "Merge = pd.DataFrame({\n",
    "    \"Month\": X[\"Month\"],\n",
    "    \"Bread 2022\": X[\"Prices_x\"],\n",
    "    \"Milk 2022\": X[\"Prices_y\"]\n",
    "})\n",
    "\n",
    "#Second merge\n",
    "Y = Merge.merge(Egg, on=\"Month\")\n",
    "Z = Y.merge(Cpi, on=\"Month\")\n",
    "\n",
    "#clean data\n",
    "Alpha = pd.DataFrame({\n",
    "    \"Month\": Z[\"Month\"],\n",
    "    \"Bread 2022\": Z[\"Bread 2022\"],\n",
    "    \"Milk 2022\": Z[\"Milk 2022\"],\n",
    "    \"Eggs 2022\": Z[\"Prices_x\"],\n",
    "    \"CPI 2022\": Z[\"Prices_y\"]\n",
    "}) \n",
    "Final = bmonthly.merge(Alpha, on=\"Month\")\n",
    "\n",
    "#Final = Alpha.set_index(\"Month\")\n",
    "Final\n"
   ]
  },
  {
   "cell_type": "code",
   "execution_count": 6,
   "id": "07a4819d",
   "metadata": {},
   "outputs": [
    {
     "name": "stdout",
     "output_type": "stream",
     "text": [
      "Bread Price V CPI for 2022 correlation: 0.8350337907016981\n"
     ]
    },
    {
     "data": {
      "image/png": "[encoded data removed]",
      "text/plain": [
       "<Figure size 432x288 with 1 Axes>"
      ]
     },
     "metadata": {
      "needs_background": "light"
     },
     "output_type": "display_data"
    }
   ],
   "source": [
    "cpi2 = Final[\"CPI 2022\"].astype(\"float\")\n",
    "bread2 = Final[\"Bread 2022\"].astype(\"float\")\n",
    "milk2 = Final[\"Milk 2022\"].astype(\"float\")\n",
    "egg2 = Final[\"Eggs 2022\"].astype(\"float\")\n",
    "beef2 = Final[\"Beef 2022\"].astype(\"float\")\n",
    "\n",
    "plt.scatter(cpi2, bread2, color='blue')\n",
    "(slope, yIntercept, rvalue, pvalue, sterr) = linregress(cpi2, bread2)\n",
    "plt.xlabel('CPI')\n",
    "plt.ylabel('Bread Prices')\n",
    "plt.title('Bread Price V CPI for 2022')\n",
    "values = (cpi2 * slope) + yIntercept\n",
    "plt.plot(cpi2, values, 'r')\n",
    "line = f'y = {slope:.2f}x + {yIntercept:.2f}'\n",
    "R = f'Correlation Value = {rvalue:.2f}'\n",
    "plt.annotate(R,(282, 2.2), fontsize=12, color='r')\n",
    "plt.annotate(line,(290, 2.05), fontsize=12, color='r')\n",
    "print(f\"Bread Price V CPI for 2022 correlation: {rvalue}\")\n",
    "\n",
    "plt.savefig('OutputData/Bread2022.png')"
   ]
  },
  {
   "cell_type": "code",
   "execution_count": 9,
   "id": "9fd23d77",
   "metadata": {},
   "outputs": [
    {
     "name": "stdout",
     "output_type": "stream",
     "text": [
      "Beef Price V CPI for 2022 correlation: 0.8413247202999276\n"
     ]
    },
    {
     "data": {
      "image/png": "[encoded data removed]",
      "text/plain": [
       "<Figure size 432x288 with 1 Axes>"
      ]
     },
     "metadata": {
      "needs_background": "light"
     },
     "output_type": "display_data"
    }
   ],
   "source": [
    "plt.scatter(cpi2, beef2, color='blue')\n",
    "(slope, yIntercept, rvalue, pvalue, sterr) = linregress(cpi2, beef2)\n",
    "plt.xlabel('CPI')\n",
    "plt.ylabel('Beef Prices')\n",
    "plt.title('Beef Price V CPI for 2022')\n",
    "values = (cpi2 * slope) + yIntercept\n",
    "plt.plot(cpi2, values, 'r')\n",
    "line = f'y = {slope:.2f}x + {yIntercept:.2f}'\n",
    "R = f'Correlation Value = {rvalue:.2f}'\n",
    "plt.annotate(R,(281, 5.4), fontsize=12, color='r')\n",
    "plt.annotate(line,(290, 5.2), fontsize=12, color='r')\n",
    "print(f\"Beef Price V CPI for 2022 correlation: {rvalue}\")\n",
    "\n",
    "plt.savefig('OutputData/Beef2022.png')"
   ]
  },
  {
   "cell_type": "code",
   "execution_count": 10,
   "id": "740b0504",
   "metadata": {},
   "outputs": [
    {
     "name": "stdout",
     "output_type": "stream",
     "text": [
      "Milk Price V CPI for 2022 correlation: 0.9341177348267038\n"
     ]
    },
    {
     "data": {
      "image/png": "[encoded data removed]",
      "text/plain": [
       "<Figure size 432x288 with 1 Axes>"
      ]
     },
     "metadata": {
      "needs_background": "light"
     },
     "output_type": "display_data"
    }
   ],
   "source": [
    "plt.scatter(cpi2, milk2, color='blue')\n",
    "(slope, yIntercept, rvalue, pvalue, sterr) = linregress(cpi2, milk2)\n",
    "values = (cpi2 * slope) + yIntercept\n",
    "plt.plot(cpi2, values, 'r')\n",
    "plt.xlabel('CPI')\n",
    "plt.ylabel('Milk Prices')\n",
    "plt.title('Milk Price V CPI for 2022')\n",
    "line = f'y = {slope:.2f}x + {yIntercept:.2f}'\n",
    "R = f'Correlation Value = {rvalue:.2f}'\n",
    "plt.annotate(R,(282, 4.1), fontsize=12, color='r')\n",
    "plt.annotate(line,(290, 3.9), fontsize=12, color='r')\n",
    "print(f\"Milk Price V CPI for 2022 correlation: {rvalue}\")\n",
    "\n",
    "plt.savefig('OutputData/Milk2022.png')"
   ]
  },
  {
   "cell_type": "code",
   "execution_count": 11,
   "id": "4f8bb9aa",
   "metadata": {},
   "outputs": [
    {
     "name": "stdout",
     "output_type": "stream",
     "text": [
      "Egg Price V CPI for 2022 correlation: 0.887177505219944\n"
     ]
    },
    {
     "data": {
      "image/png": "[encoded data removed]",
      "text/plain": [
       "<Figure size 432x288 with 1 Axes>"
      ]
     },
     "metadata": {
      "needs_background": "light"
     },
     "output_type": "display_data"
    }
   ],
   "source": [
    "plt.scatter(cpi2, egg2, color='blue')\n",
    "(slope, yIntercept, rvalue, pvalue, sterr) = linregress(cpi2, egg2)\n",
    "plt.xlabel('CPI')\n",
    "plt.ylabel('Egg Prices')\n",
    "plt.title('Egg Price V CPI for 2022')\n",
    "values = (cpi2 * slope) + yIntercept\n",
    "plt.plot(cpi2, values, 'r')\n",
    "line = f'y = {slope:.2f}x + {yIntercept:.2f}'\n",
    "R = f'Correlation Value = {rvalue:.2f}'\n",
    "plt.annotate(R,(282, 2.7), fontsize=12, color='r')\n",
    "plt.annotate(line,(290, 2), fontsize=12, color='r')\n",
    "print(f\"Egg Price V CPI for 2022 correlation: {rvalue}\")\n",
    "\n",
    "plt.savefig('OutputData/Egg2022.png')"
   ]
  },
  {
   "cell_type": "code",
   "execution_count": null,
   "id": "7b2d6a53",
   "metadata": {},
   "outputs": [],
   "source": []
  }
 ],
 "metadata": {
  "kernelspec": {
   "display_name": "Python 3 (ipykernel)",
   "language": "python",
   "name": "python3"
  },
  "language_info": {
   "codemirror_mode": {
    "name": "ipython",
    "version": 3
   },
   "file_extension": ".py",
   "mimetype": "text/x-python",
   "name": "python",
   "nbconvert_exporter": "python",
   "pygments_lexer": "ipython3",
   "version": "3.9.7"
  }
 },
 "nbformat": 4,
 "nbformat_minor": 5
}
